{
 "cells": [
  {
   "cell_type": "code",
   "execution_count": 2,
   "id": "1c1033a1-fab0-4cbb-a737-46d3e94872ae",
   "metadata": {},
   "outputs": [],
   "source": [
    "## DATA OBSERVATION\n"
   ]
  },
  {
   "cell_type": "markdown",
   "id": "c29004db-226e-4794-be51-60ef37785ee6",
   "metadata": {},
   "source": [
    "## DATA ANALYSIS\n"
   ]
  },
  {
   "cell_type": "code",
   "execution_count": null,
   "id": "8d07ebbf-ee4b-4bf2-8b31-9c0c4b411c5e",
   "metadata": {},
   "outputs": [],
   "source": []
  }
 ],
 "metadata": {
  "kernelspec": {
   "display_name": "Python [conda env:base] *",
   "language": "python",
   "name": "conda-base-py"
  },
  "language_info": {
   "codemirror_mode": {
    "name": "ipython",
    "version": 3
   },
   "file_extension": ".py",
   "mimetype": "text/x-python",
   "name": "python",
   "nbconvert_exporter": "python",
   "pygments_lexer": "ipython3",
   "version": "3.13.5"
  }
 },
 "nbformat": 4,
 "nbformat_minor": 5
}
